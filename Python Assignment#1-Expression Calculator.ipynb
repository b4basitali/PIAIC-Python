{
 "cells": [
  {
   "cell_type": "code",
   "execution_count": 1,
   "metadata": {},
   "outputs": [
    {
     "name": "stdout",
     "output_type": "stream",
     "text": [
      "Please Enter a Mathmetical Expression e.g. 2+4/3*44/5-433*5/4-8+7\n",
      "The Result of desired expression is = 18\n"
     ]
    }
   ],
   "source": [
    "x = input(\"Please Enter a Mathmetical Expression e.g. 2+4/3*44/5-4\")\n",
    "plus = 0   \n",
    "minus = 0\n",
    "divide = 0\n",
    "multiply = 0\n",
    "count = 0\n",
    "status = False\n",
    "Exp = []\n",
    "for val in x:\n",
    "    count += 1\n",
    "    if(count == 1):\n",
    "        Exp.append(val)\n",
    "        \n",
    "    else:\n",
    "        if(val != \"+\" and val != \"-\" and val != \"*\" and val != \"/\"):            \n",
    "            if(Exp[count-2] != \"+\" and Exp[count-2] != \"-\" and Exp[count-2] != \"*\" and Exp[count-2] != \"/\"):\n",
    "                Exp[count-2] += val\n",
    "                count -= 1\n",
    "                \n",
    "            else:\n",
    "                Exp.append(val)\n",
    "        else:\n",
    "             Exp.append(val)          \n",
    "             \n",
    "\n",
    "    \n",
    "    if(val == \"+\"):\n",
    "        plus += 1\n",
    "    elif(val == \"-\"):\n",
    "        minus += 1\n",
    "    elif(val == \"*\"):\n",
    "        multiply += 1\n",
    "    elif(val == \"/\"):\n",
    "        divide += 1\n",
    "\n",
    "\n",
    "while divide >= 1:\n",
    "    index = Exp.index(\"/\")\n",
    "    if(int(Exp[index+1]) == 0):\n",
    "        status = True\n",
    "        print(\"Please insert a valid expression: Division by Zero Error Found\")\n",
    "        break\n",
    "    else:        \n",
    "        Exp[index-1] = int(Exp[index-1]) / int(Exp[index+1])\n",
    "        del Exp[index]\n",
    "        del Exp[index]\n",
    "        divide -= 1  \n",
    "\n",
    "while multiply >= 1:\n",
    "    index = Exp.index(\"*\")\n",
    "    Exp[index-1] = int(Exp[index-1]) * int(Exp[index+1])\n",
    "    del Exp[index]\n",
    "    del Exp[index]\n",
    "    multiply -= 1 \n",
    "    \n",
    "while plus >= 1:\n",
    "    index = Exp.index(\"+\")\n",
    "    Exp[index-1] = int(Exp[index-1]) + int(Exp[index+1])\n",
    "    del Exp[index]\n",
    "    del Exp[index]\n",
    "    plus -= 1 \n",
    "    \n",
    "while minus >= 1:\n",
    "    index = Exp.index(\"-\")\n",
    "    Exp[index-1] = int(Exp[index-1]) - int(Exp[index+1])\n",
    "    del Exp[index]\n",
    "    del Exp[index]\n",
    "    minus -= 1 \n",
    "\n",
    "    \n",
    "if(status != True):    \n",
    "    result = Exp[0]\n",
    "    print(\"The Result of desired expression is = \"+ str(result))\n",
    "\n",
    "    "
   ]
  },
  {
   "cell_type": "code",
   "execution_count": null,
   "metadata": {},
   "outputs": [],
   "source": []
  }
 ],
 "metadata": {
  "kernelspec": {
   "display_name": "Python 3",
   "language": "python",
   "name": "python3"
  },
  "language_info": {
   "codemirror_mode": {
    "name": "ipython",
    "version": 3
   },
   "file_extension": ".py",
   "mimetype": "text/x-python",
   "name": "python",
   "nbconvert_exporter": "python",
   "pygments_lexer": "ipython3",
   "version": "3.7.3"
  }
 },
 "nbformat": 4,
 "nbformat_minor": 2
}
