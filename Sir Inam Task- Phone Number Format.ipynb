{
 "cells": [
  {
   "cell_type": "code",
   "execution_count": 3,
   "metadata": {},
   "outputs": [
    {
     "name": "stdout",
     "output_type": "stream",
     "text": [
      "Enter 10 Digits numbers (Between 0-9): 1234567890\n",
      "(123) 456-7890\n"
     ]
    }
   ],
   "source": [
    "def number_format(phone_number):\n",
    "    string = ''.join(str(e) for e in phone_number)\n",
    "    print(f'({string[:3]}) {string[3:6]}-{string[6:]}')\n",
    "\n",
    "num = input(\"Enter 10 Digits numbers (Between 0-9): \")\n",
    "phone_number = []\n",
    "for e in range(len(num)):\n",
    "    phone_number.append(int(num[e]))\n",
    "\n",
    "number_format(phone_number)\n",
    " "
   ]
  },
  {
   "cell_type": "code",
   "execution_count": null,
   "metadata": {},
   "outputs": [],
   "source": []
  },
  {
   "cell_type": "code",
   "execution_count": 4,
   "metadata": {},
   "outputs": [
    {
     "name": "stdout",
     "output_type": "stream",
     "text": [
      "Enter 10 Digits numbers (Between 0-9): 1234567890\n",
      "(123) 456-7890\n"
     ]
    }
   ],
   "source": [
    "def number_format(num):\n",
    "    print(f'({num[:3]}) {num[3:6]}-{num[6:]}')\n",
    "    \n",
    "number_format(input(\"Enter 10 Digits numbers (Between 0-9): \"))\n"
   ]
  },
  {
   "cell_type": "code",
   "execution_count": null,
   "metadata": {},
   "outputs": [],
   "source": []
  },
  {
   "cell_type": "code",
   "execution_count": null,
   "metadata": {},
   "outputs": [],
   "source": []
  }
 ],
 "metadata": {
  "kernelspec": {
   "display_name": "Python 3",
   "language": "python",
   "name": "python3"
  },
  "language_info": {
   "codemirror_mode": {
    "name": "ipython",
    "version": 3
   },
   "file_extension": ".py",
   "mimetype": "text/x-python",
   "name": "python",
   "nbconvert_exporter": "python",
   "pygments_lexer": "ipython3",
   "version": "3.7.3"
  }
 },
 "nbformat": 4,
 "nbformat_minor": 2
}
