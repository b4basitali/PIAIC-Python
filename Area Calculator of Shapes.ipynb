class shapes():
    area = 0
    def __init__(self,choice,length,width,height,base,upper_base,radius):
        self.choice = choice
        self.length = length
        self.width = width
        self.height = height
        self.base = base
        self.upper_base = upper_base
        self.radius = radius
        
        
    def area(self,phi = ""):
         if self.choice == "1":
            area = self.length * self.length
            return area
         elif self.choice == "2":
            area = self.length * self.width
            return area
         elif self.choice == "3":
            area = ((self.base + self.upper_base)/2) * self.height
            return area
         elif self.choice == "4":
            area = (self.height * self.base)/2
            return area
         elif self.choice == "5":
            area = phi*(self.radius * self.radius)
            return area
       

print("Insert 1 for Calculate area of Square")
print("Insert 2 for Calculate area of Rectangle")
print("Insert 3 for Calculate area of Trapezoid")
print("Insert 4 for Calculate area of Triangle")
print("Insert 5 for Calculate area of Circle")
while(True):
    choice = input("Please Select one option from above list")
    if choice == "1" or choice == "2" or choice == "3" or choice == "4" or choice == "5":
        break
    else:
        print("Please Select from above values")



if choice == "1":   
    length = float(input("Please Insert Length of a line of Square"))
    calculate = shapes(choice,length,"","","","","")
    print("Area of Square is: "+str(calculate.area()))
elif choice == "2":
        length = float(input("Please Insert Length of a Rectangle"))
        width = float(input("Please Insert width of a Rectangle"))
        calculate = shapes(choice,length,width,"","","","")
        print("Area of Rectangle is: "+str(calculate.area()))
elif choice == "3":
        height = float(input("Please Insert height of a Trapezoid"))
        upper_base = float(input("Please Insert upper base of a Trapezoid"))
        base = float(input("Please Insert upper Lower base of a Trapezoid"))
        calculate = shapes(choice,"","",height,base,upper_base,"")
        print("Area of Trapezoid is: "+str(calculate.area()))
elif choice == "4":
        height = float(input("Please Insert height of a Triangle"))
        base = float(input("Please Insert base of a Triangle"))
        calculate = shapes(choice,"","",height,base,"","")
        print("Area of Triangle is: "+str(calculate.area()))
elif choice == "5":
        radius = float(input("Please Insert Radius of a Circle"))
        calculate = shapes(choice,"","","","","",radius)        
        print("Area of Circle is: "+str(calculate.area(phi = 3.14)))