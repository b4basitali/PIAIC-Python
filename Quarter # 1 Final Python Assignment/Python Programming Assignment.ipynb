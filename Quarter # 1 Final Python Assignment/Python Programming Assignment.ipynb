{
 "cells": [
  {
   "cell_type": "code",
   "execution_count": 4,
   "metadata": {},
   "outputs": [
    {
     "name": "stdout",
     "output_type": "stream",
     "text": [
      "***********************************************************\n",
      "PIAIC QUARTER # 1 FINAL ASSIGNMENT\n",
      "*********************************************************** \n",
      "\n",
      "Insert 1 for Calculate area of Circle\n",
      "Insert 2 for check Number either Positive, Negative or Zero\n",
      "Insert 3 for Divisibility check of two numbers\n",
      "Insert 4 for Days Calculator\n",
      "Insert 5 for Calculate Volume of Sphere\n",
      "Insert 6 for Copy String n Times\n",
      "Insert 7 for Check is Number Even or Odd\n",
      "Insert 8 for Vowel Tester\n",
      "Insert 9 for Calculate Area of Triangle\n",
      "Insert 10 for Calculate Interest\n",
      "Insert 11 for Calculate Euclidean distance\n",
      "Insert 12 for Feet to Centimeter Converter\n",
      "Insert 13 for BMI Calculator\n",
      "Insert 14 for Sum of n Positive Integers\n",
      "Insert 15 for Digits Sum of a Number\n",
      "Insert 16 for Decimal to Binary Converter\n",
      "Insert 17 for Binary to Decimal Converter\n",
      "Insert 18 for Vowel and Consonants Counter\n",
      "Insert 19 for Palindrome tester\n",
      "Insert 20 for Count Alphabets, Numbers and Special Characters\n",
      "Insert 21 for Pattern # 1\n",
      "Insert 22 for Pattern # 2\n",
      "Insert 23 for Pattern # 3\n",
      "Please Select one option from above list3\n",
      "Please Enter a Numerator \n",
      "44\n",
      "Please Enter a Denominator \n",
      "44\n",
      "The number 44.0 is completely Divisible by 44.0\n",
      "Do you want to continue (y/n)... \n",
      "n\n",
      "****Thank you for using my program****\n"
     ]
    }
   ],
   "source": [
    "import piaic_python_functions\n",
    "\n",
    "while(True): \n",
    "    print(\"***********************************************************\")\n",
    "    print(\"PIAIC QUARTER # 1 FINAL ASSIGNMENT\")\n",
    "    print(\"*********************************************************** \\n\")\n",
    "    \n",
    "    print(\"Insert 1 for Calculate area of Circle\")\n",
    "    print(\"Insert 2 for check Number either Positive, Negative or Zero\")\n",
    "    print(\"Insert 3 for Divisibility check of two numbers\")\n",
    "    print(\"Insert 4 for Days Calculator\")\n",
    "    print(\"Insert 5 for Calculate Volume of Sphere\")\n",
    "    print(\"Insert 6 for Copy String n Times\")\n",
    "    print(\"Insert 7 for Check is Number Even or Odd\")\n",
    "    print(\"Insert 8 for Vowel Tester\")\n",
    "    print(\"Insert 9 for Calculate Area of Triangle\")\n",
    "    print(\"Insert 10 for Calculate Interest\")\n",
    "    print(\"Insert 11 for Calculate Euclidean distance\")\n",
    "    print(\"Insert 12 for Feet to Centimeter Converter\")\n",
    "    print(\"Insert 13 for BMI Calculator\")\n",
    "    print(\"Insert 14 for Sum of n Positive Integers\")\n",
    "    print(\"Insert 15 for Digits Sum of a Number\")\n",
    "    print(\"Insert 16 for Decimal to Binary Converter\")\n",
    "    print(\"Insert 17 for Binary to Decimal Converter\")\n",
    "    print(\"Insert 18 for Vowel and Consonants Counter\")\n",
    "    print(\"Insert 19 for Palindrome tester\")\n",
    "    print(\"Insert 20 for Count Alphabets, Numbers and Special Characters\")\n",
    "    print(\"Insert 21 for Pattern # 1\")\n",
    "    print(\"Insert 22 for Pattern # 2\")\n",
    "    print(\"Insert 23 for Pattern # 3\")\n",
    "\n",
    "    while(True):\n",
    "        choice = input(\"Please Select one option from above list\")\n",
    "        if choice == \"1\" or choice == \"2\" or choice == \"3\" or choice == \"4\" or choice == \"5\" or choice == \"6\" or choice == \"7\" or choice == \"8\" or choice == \"9\" or choice == \"10\" or choice == \"11\" or choice == \"12\" or choice == \"13\" or choice == \"14\" or choice == \"15\" or choice == \"16\" or choice == \"17\" or choice == \"18\" or choice == \"19\" or choice == \"20\" or choice == \"21\" or choice == \"22\" or choice == \"23\":\n",
    "            break\n",
    "        else:\n",
    "            print(\"Please Select from above values\")\n",
    "\n",
    "\n",
    "\n",
    "    if choice == \"1\":   \n",
    "        piaic_python_functions.circle_area(float(input(\"Please enter a radius of a circle to calculate its area \\n\")))    \n",
    "    elif choice == \"2\":\n",
    "        piaic_python_functions.check_num(input(\"Please Enter a Number to check is either positive, Negative or Zero \\n\"))        \n",
    "    elif choice == \"3\":\n",
    "        piaic_python_functions.check_divisibility(input(\"Please Enter a Numerator \\n\"),input(\"Please Enter a Denominator \\n\"))\n",
    "    elif choice == \"4\":\n",
    "        piaic_python_functions.calc_days(datetime.strptime(input(\"Enter Starting date on format: dd/mm/yy \\n\"), \"%d/%m/%y\"),datetime.strptime(input(\"Enter Ending date on format: dd/mm/yy   \\n\"), \"%d/%m/%y\"))\n",
    "    elif choice == \"5\":\n",
    "        piaic_python_functions.sphere_volume(float(input(\"Please enter a radius of a Sphere to calculate its Volume \\n\")))\n",
    "    elif choice == \"6\":\n",
    "        piaic_python_functions.copy_str(input(\"Please Insert a String: \\n\"),int(input(\"Please Insert how many copies of a string you want (a Positive Integer) \\n\")))          \n",
    "    elif choice == \"7\":\n",
    "        piaic_python_functions.check_even_odd(input(\"Please Enter a Number to check even or odd \\n\")) \n",
    "    elif choice == \"8\":\n",
    "        piaic_python_functions.check_vowel(vowels,input(\"Enter a Character to check Vowel: \\n\"))\n",
    "    elif choice == \"9\":\n",
    "        piaic_python_functions.triangle_area(float(input(\"Please enter a magnitude of Base of a Triangle to calculate its Area  \\n\")),float(input(\"Please enter a magnitude of Height of a Triangle to calculate its Area  \\n\")))\n",
    "    elif choice == \"10\":\n",
    "        piaic_python_functions.calc_interest(input(\"Please Enter a Pricipal Amount: \\n\"),input(\"Please Enter a rate of interest: \\n\"),input(\"Please Enter number of years of investment: \\n\"))\n",
    "    elif choice == \"11\":\n",
    "        piaic_python_functions.euclidean_distance(float(input(\"Enter Co-Ordinate for x1: \\n\")),float(input(\"Enter Co-Ordinate for x2: \\n\")),float(input(\"Enter Co-Ordinate for y1: \\n\")),float(input(\"Enter Co-Ordinate for y2: \\n\")))\n",
    "    elif choice == \"12\":\n",
    "        piaic_python_functions.feet_to_cm(float(input(\"Enter your height in feet: \\n\")))\n",
    "    elif choice == \"13\":\n",
    "        piaic_python_functions.calc_bmi(float(input(\"Enter your Height in cm \\n\")),float(input(\"Enter your Weight in kg \\n\")))\n",
    "    elif choice == \"14\":\n",
    "        piaic_python_functions.sum_integers(int(input(\"Enter an integer to get sum till the integer: \\n\"))) \n",
    "    elif choice == \"15\":\n",
    "        piaic_python_functions.sum_digits(input(\"Please enter an integer to get the sum of its digits: \\n\"))         \n",
    "    elif choice == \"16\":        \n",
    "        piaic_python_functions.dectobin(int(input(\"Please Enter a Decimal Number: \\n\")))\n",
    "        print(\"\\nis the Binary Representation of the given Decimal\")\n",
    "    elif choice == \"17\":\n",
    "        piaic_python_functions.bintodec(float(input(\"Please Enter a Binary Number to convert\")))\n",
    "    elif choice == \"18\":\n",
    "        piaic_python_functions.count_vowel_consonant(input(\"Enter a String to count vowels and consonants: \\n\"))\n",
    "    elif choice == \"19\":\n",
    "        piaic_python_functions.palindrome(input(\"Enter a String to check Palindrome \\n\").upper())\n",
    "    elif choice == \"20\":\n",
    "        piaic_python_functions.count_sans(input(\"Please Enter a String: \\n\"))\n",
    "    elif choice == \"21\":\n",
    "        piaic_python_functions.pattern1()        \n",
    "    elif choice == \"22\":\n",
    "        piaic_python_functions.pattern2()\n",
    "    elif choice == \"23\":\n",
    "        piaic_python_functions.pattern3()\n",
    "    \n",
    "    if input(\"Do you want to continue (y/n)... \\n\").upper() == \"N\":\n",
    "        print(\"****Thank you for using my program****\")\n",
    "        break\n",
    "    else:        \n",
    "        continue"
   ]
  },
  {
   "cell_type": "code",
   "execution_count": null,
   "metadata": {},
   "outputs": [],
   "source": []
  },
  {
   "cell_type": "code",
   "execution_count": null,
   "metadata": {},
   "outputs": [],
   "source": []
  },
  {
   "cell_type": "code",
   "execution_count": null,
   "metadata": {},
   "outputs": [],
   "source": []
  },
  {
   "cell_type": "code",
   "execution_count": null,
   "metadata": {},
   "outputs": [],
   "source": []
  },
  {
   "cell_type": "code",
   "execution_count": null,
   "metadata": {},
   "outputs": [],
   "source": []
  },
  {
   "cell_type": "code",
   "execution_count": null,
   "metadata": {},
   "outputs": [],
   "source": []
  },
  {
   "cell_type": "code",
   "execution_count": null,
   "metadata": {},
   "outputs": [],
   "source": []
  },
  {
   "cell_type": "code",
   "execution_count": null,
   "metadata": {},
   "outputs": [],
   "source": []
  },
  {
   "cell_type": "code",
   "execution_count": null,
   "metadata": {},
   "outputs": [],
   "source": []
  },
  {
   "cell_type": "code",
   "execution_count": null,
   "metadata": {},
   "outputs": [],
   "source": []
  },
  {
   "cell_type": "code",
   "execution_count": null,
   "metadata": {},
   "outputs": [],
   "source": []
  },
  {
   "cell_type": "code",
   "execution_count": null,
   "metadata": {},
   "outputs": [],
   "source": []
  },
  {
   "cell_type": "code",
   "execution_count": null,
   "metadata": {},
   "outputs": [],
   "source": []
  },
  {
   "cell_type": "code",
   "execution_count": null,
   "metadata": {},
   "outputs": [],
   "source": []
  },
  {
   "cell_type": "code",
   "execution_count": null,
   "metadata": {},
   "outputs": [],
   "source": []
  },
  {
   "cell_type": "code",
   "execution_count": null,
   "metadata": {},
   "outputs": [],
   "source": []
  },
  {
   "cell_type": "code",
   "execution_count": null,
   "metadata": {},
   "outputs": [],
   "source": []
  },
  {
   "cell_type": "code",
   "execution_count": null,
   "metadata": {},
   "outputs": [],
   "source": []
  },
  {
   "cell_type": "code",
   "execution_count": null,
   "metadata": {},
   "outputs": [],
   "source": []
  },
  {
   "cell_type": "code",
   "execution_count": null,
   "metadata": {},
   "outputs": [],
   "source": []
  },
  {
   "cell_type": "code",
   "execution_count": null,
   "metadata": {},
   "outputs": [],
   "source": []
  },
  {
   "cell_type": "code",
   "execution_count": null,
   "metadata": {},
   "outputs": [],
   "source": []
  }
 ],
 "metadata": {
  "kernelspec": {
   "display_name": "Python 3",
   "language": "python",
   "name": "python3"
  },
  "language_info": {
   "codemirror_mode": {
    "name": "ipython",
    "version": 3
   },
   "file_extension": ".py",
   "mimetype": "text/x-python",
   "name": "python",
   "nbconvert_exporter": "python",
   "pygments_lexer": "ipython3",
   "version": "3.7.3"
  }
 },
 "nbformat": 4,
 "nbformat_minor": 2
}
